{
 "cells": [
  {
   "cell_type": "code",
   "execution_count": 1,
   "metadata": {
    "colab": {
     "base_uri": "https://localhost:8080/"
    },
    "id": "55aQu4zox4SX",
    "outputId": "49b24fda-e694-4846-f849-ee7d8b36ea60"
   },
   "outputs": [],
   "source": [
    "import os\n",
    "import numpy as np\n",
    "import pandas as pd\n",
    "import matplotlib.pyplot as plt\n",
    "import seaborn as sns\n",
    "import pandas as pd\n",
    "from sklearn.model_selection import train_test_split\n",
    "from sklearn.preprocessing import LabelEncoder, StandardScaler\n",
    "from sklearn.impute import SimpleImputer\n",
    "from sklearn.pipeline import Pipeline\n",
    "from sklearn.compose import ColumnTransformer\n",
    "from sklearn.ensemble import RandomForestClassifier\n",
    "from sklearn.metrics import classification_report, accuracy_score, mean_squared_error, mean_absolute_error, r2_score\n",
    "from sklearn.linear_model import LinearRegression, Ridge, Lasso, ElasticNet\n",
    "from lightgbm import LGBMRegressor\n",
    "from sklearn.ensemble import RandomForestRegressor\n",
    "from sklearn.svm import SVR\n",
    "import numpy as np\n",
    "import time\n",
    "pd.set_option('display.max_columns', 500)\n",
    "import threading"
   ]
  },
  {
   "cell_type": "code",
   "execution_count": 4,
   "metadata": {
    "id": "VD4zZUwuzICF"
   },
   "outputs": [],
   "source": [
    "merged_data_raw = pd.read_csv('merged_data_raw_fe.csv')"
   ]
  },
  {
   "cell_type": "code",
   "execution_count": 5,
   "metadata": {
    "colab": {
     "base_uri": "https://localhost:8080/"
    },
    "id": "s04EHEDozePl",
    "outputId": "f0212655-2eab-4f17-ef8f-8d285f1704d5"
   },
   "outputs": [
    {
     "name": "stdout",
     "output_type": "stream",
     "text": [
      "<class 'pandas.core.frame.DataFrame'>\n",
      "RangeIndex: 354794 entries, 0 to 354793\n",
      "Data columns (total 71 columns):\n",
      " #   Column               Non-Null Count   Dtype  \n",
      "---  ------               --------------   -----  \n",
      " 0   Unnamed: 0           354794 non-null  int64  \n",
      " 1   mssv                 354794 non-null  object \n",
      " 2   mamh                 354792 non-null  object \n",
      " 3   malop                354792 non-null  object \n",
      " 4   sotc                 354792 non-null  float64\n",
      " 5   hocky                354792 non-null  float64\n",
      " 6   namhoc               354792 non-null  float64\n",
      " 7   diem_qt              218760 non-null  float64\n",
      " 8   diem_th              152239 non-null  float64\n",
      " 9   diem_gk              195942 non-null  float64\n",
      " 10  diem_ck              340120 non-null  float64\n",
      " 11  diem_hp              354421 non-null  float64\n",
      " 12  trangthai            354792 non-null  float64\n",
      " 13  tinhtrang            354792 non-null  float64\n",
      " 14  mamh_tt              707 non-null     object \n",
      " 15  namsinh              354794 non-null  float64\n",
      " 16  gioitinh             354794 non-null  float64\n",
      " 17  noisinh              354794 non-null  object \n",
      " 18  lopsh                354794 non-null  object \n",
      " 19  khoa                 354794 non-null  object \n",
      " 20  hedt                 354794 non-null  object \n",
      " 21  khoahoc              354794 non-null  float64\n",
      " 22  dtbhk1               354794 non-null  float64\n",
      " 23  dtbhk2               353698 non-null  float64\n",
      " 24  dtbhk3               350719 non-null  float64\n",
      " 25  dtbhk4               347832 non-null  float64\n",
      " 26  dtbhk5               344231 non-null  float64\n",
      " 27  dtbhk6               340257 non-null  float64\n",
      " 28  dtbhk7               333824 non-null  float64\n",
      " 29  dtbhk8               270173 non-null  float64\n",
      " 30  dtbhk9               195464 non-null  float64\n",
      " 31  dtbhk10              118928 non-null  float64\n",
      " 32  dtbhk11              72677 non-null   float64\n",
      " 33  dtbhk12              46231 non-null   float64\n",
      " 34  dtbhk13              31395 non-null   float64\n",
      " 35  dtbhk14              19515 non-null   float64\n",
      " 36  dtbhk15              12165 non-null   float64\n",
      " 37  dtbhk16              7652 non-null    float64\n",
      " 38  dtbhk17              5230 non-null    float64\n",
      " 39  dtbhk18              2917 non-null    float64\n",
      " 40  dtbhk19              1987 non-null    float64\n",
      " 41  dtbhk20              1215 non-null    float64\n",
      " 42  dtbhk21              638 non-null     float64\n",
      " 43  dtbhk22              190 non-null     float64\n",
      " 44  sotchk1              354794 non-null  float64\n",
      " 45  sotchk2              353698 non-null  float64\n",
      " 46  sotchk3              350719 non-null  float64\n",
      " 47  sotchk4              347832 non-null  float64\n",
      " 48  sotchk5              344231 non-null  float64\n",
      " 49  sotchk6              340257 non-null  float64\n",
      " 50  sotchk7              333824 non-null  float64\n",
      " 51  sotchk8              270173 non-null  float64\n",
      " 52  sotchk9              195464 non-null  float64\n",
      " 53  sotchk10             118928 non-null  float64\n",
      " 54  sotchk11             72677 non-null   float64\n",
      " 55  sotchk12             46231 non-null   float64\n",
      " 56  sotchk13             31395 non-null   float64\n",
      " 57  sotchk14             19515 non-null   float64\n",
      " 58  sotchk15             12165 non-null   float64\n",
      " 59  sotchk16             7652 non-null    float64\n",
      " 60  sotchk17             5230 non-null    float64\n",
      " 61  sotchk18             2917 non-null    float64\n",
      " 62  sotchk19             1987 non-null    float64\n",
      " 63  sotchk20             1215 non-null    float64\n",
      " 64  sotchk21             638 non-null     float64\n",
      " 65  sotchk22             190 non-null     float64\n",
      " 66  namhoc_monhoc        354792 non-null  float64\n",
      " 67  hocky_monhoc         354792 non-null  float64\n",
      " 68  gap_hocky            354794 non-null  int64  \n",
      " 69  hocky_monhoc_count   354794 non-null  int64  \n",
      " 70  namhoc_monhoc_count  354794 non-null  int64  \n",
      "dtypes: float64(59), int64(4), object(8)\n",
      "memory usage: 192.2+ MB\n"
     ]
    }
   ],
   "source": [
    "merged_data_raw.info()"
   ]
  },
  {
   "cell_type": "code",
   "execution_count": null,
   "metadata": {
    "id": "7dvA3okS1Q6x"
   },
   "outputs": [],
   "source": [
    "merged_data_cleaned = merged_data_raw.dropna(subset=['mssv'])\n",
    "merged_data_cleaned = merged_data_cleaned.drop(columns=['mssv'])\n",
    "merged_data_cleaned = merged_data_cleaned.fillna(0)"
   ]
  },
  {
   "cell_type": "code",
   "execution_count": null,
   "metadata": {
    "id": "-Ix85oFp2SwL"
   },
   "outputs": [],
   "source": [
    "label_encoders = {}\n",
    "for column in merged_data_cleaned.select_dtypes(include=['object']).columns:\n",
    "    le = LabelEncoder()\n",
    "    try:\n",
    "        merged_data_cleaned[column] = le.fit_transform(merged_data_cleaned[column])\n",
    "    except TypeError:\n",
    "        merged_data_cleaned[column] = le.fit_transform(merged_data_cleaned[column].astype(str))\n",
    "    label_encoders[column] = le"
   ]
  },
  {
   "cell_type": "code",
   "execution_count": null,
   "metadata": {
    "id": "T4gchhX22UQx"
   },
   "outputs": [],
   "source": [
    "X = merged_data_cleaned.drop(columns=['diem_hp'])  # Assuming 'diem_hp' is the target variable\n",
    "y = merged_data_cleaned['diem_hp']"
   ]
  },
  {
   "cell_type": "code",
   "execution_count": null,
   "metadata": {
    "id": "UCiI1naT2Xvb"
   },
   "outputs": [],
   "source": [
    "X_train, X_test, y_train, y_test = train_test_split(X, y, test_size=0.2, random_state=42)"
   ]
  },
  {
   "cell_type": "code",
   "execution_count": null,
   "metadata": {
    "colab": {
     "base_uri": "https://localhost:8080/"
    },
    "id": "uNqt-BVz2rwt",
    "outputId": "a3786a3e-d635-424d-d7ca-9f281b7b47d0"
   },
   "outputs": [
    {
     "name": "stdout",
     "output_type": "stream",
     "text": [
      "\n",
      "Huấn luyện mô hình: Linear Regression\n",
      "MSE: 0.8765377373435514\n",
      "RMSE: 0.9362359410659\n",
      "MAE: 0.6155936399077466\n",
      "R-squared: 0.8521296724883041\n",
      "Adjusted R-squared: 0.8519982692774537\n",
      "Thời gian huấn luyện: 3.036477565765381 giây\n",
      "\n",
      "Huấn luyện mô hình: Ridge Regression\n",
      "MSE: 0.8765377389137126\n",
      "RMSE: 0.9362359419044499\n",
      "MAE: 0.6155942617987842\n",
      "R-squared: 0.8521296722234208\n",
      "Adjusted R-squared: 0.8519982690123351\n",
      "Thời gian huấn luyện: 0.6021723747253418 giây\n",
      "\n",
      "Huấn luyện mô hình: Lasso Regression\n",
      "MSE: 2.3213315882605503\n",
      "RMSE: 1.5235916737303832\n",
      "MAE: 1.1037196768322268\n",
      "R-squared: 0.6083955686156653\n",
      "Adjusted R-squared: 0.6080475739873106\n",
      "Thời gian huấn luyện: 0.5960485935211182 giây\n",
      "\n",
      "Huấn luyện mô hình: Elastic Net Regression\n",
      "MSE: 2.030488481674836\n",
      "RMSE: 1.4249520980281534\n",
      "MAE: 1.0416292679228345\n",
      "R-squared: 0.6574602735257888\n",
      "Adjusted R-squared: 0.6571558796648977\n",
      "Thời gian huấn luyện: 0.789520263671875 giây\n",
      "\n",
      "Huấn luyện mô hình: LightGBM Regression\n",
      "MSE: 0.14746461551505285\n",
      "RMSE: 0.38401121795470095\n",
      "MAE: 0.20147406863222617\n",
      "R-squared: 0.9751229866512289\n",
      "Adjusted R-squared: 0.9751008799886861\n",
      "Thời gian huấn luyện: 13.061238765716553 giây\n",
      "\n",
      "Huấn luyện mô hình: Random Forest Regression\n",
      "MSE: 0.11208949405068135\n",
      "RMSE: 0.3347976912266292\n",
      "MAE: 0.1384774384246487\n",
      "R-squared: 0.9810907055227011\n",
      "Adjusted R-squared: 0.9810739020026775\n",
      "Thời gian huấn luyện: 820.1285998821259 giây\n",
      "\n",
      "Huấn luyện mô hình: Support Vector Regression\n",
      "Mô hình Support Vector Regression đã vượt quá thời gian huấn luyện cho phép (3600 giây). Kết quả: NaN\n",
      "Thời gian huấn luyện: nan giây\n"
     ]
    }
   ],
   "source": [
    "import pandas as pd\n",
    "import numpy as np\n",
    "import threading\n",
    "import time\n",
    "from sklearn.model_selection import train_test_split\n",
    "from sklearn.pipeline import Pipeline\n",
    "from sklearn.metrics import mean_squared_error, mean_absolute_error, r2_score\n",
    "from sklearn.linear_model import LinearRegression, Ridge, Lasso, ElasticNet\n",
    "from lightgbm import LGBMRegressor\n",
    "from sklearn.ensemble import RandomForestRegressor\n",
    "from sklearn.svm import SVR\n",
    "\n",
    "# Định nghĩa các mô hình\n",
    "models = {\n",
    "    'Linear Regression': LinearRegression(),\n",
    "    'Ridge Regression': Ridge(),\n",
    "    'Lasso Regression': Lasso(),\n",
    "    'Elastic Net Regression': ElasticNet(),\n",
    "    'LightGBM Regression': LGBMRegressor(),\n",
    "    'Random Forest Regression': RandomForestRegressor(),\n",
    "    'Support Vector Regression': SVR()\n",
    "}\n",
    "\n",
    "# Giới hạn thời gian huấn luyện là 1 giờ (3600 giây)\n",
    "training_threshold = 3600  # seconds\n",
    "\n",
    "# Danh sách các tập dữ liệu đã được tiền xử lý\n",
    "datasets = ['dataset1.csv', 'dataset2.csv', 'dataset3.csv', 'dataset4.csv', 'dataset5.csv']\n",
    "\n",
    "# Lặp qua từng tập dữ liệu\n",
    "for dataset_name in datasets:\n",
    "    print(f\"\\nĐang xử lý {dataset_name}\")\n",
    "    # Đọc tập dữ liệu đã được tiền xử lý\n",
    "    data = pd.read_csv(dataset_name)\n",
    "    \n",
    "    # Xác định các cột số và cột phân loại\n",
    "    numerical = data.select_dtypes(include=['int64', 'float64']).columns.tolist()\n",
    "    categorical = data.select_dtypes(include=['object']).columns.tolist()\n",
    "    \n",
    "    # Định nghĩa biến mục tiêu\n",
    "    target_variable = 'dtbhk1'  # Thay 'dtbhk1' bằng tên biến mục tiêu thực tế nếu khác\n",
    "    if target_variable not in data.columns:\n",
    "        print(f\"Biến mục tiêu '{target_variable}' không có trong tập dữ liệu '{dataset_name}'. Bỏ qua tập dữ liệu này.\")\n",
    "        continue\n",
    "    if target_variable in numerical:\n",
    "        numerical.remove(target_variable)\n",
    "    if target_variable in categorical:\n",
    "        categorical.remove(target_variable)\n",
    "    \n",
    "    # Định nghĩa đặc trưng (X) và biến mục tiêu (y)\n",
    "    X = data.drop(columns=[target_variable])\n",
    "    y = data[target_variable]\n",
    "    \n",
    "    # Chia dữ liệu thành tập huấn luyện và kiểm tra\n",
    "    try:\n",
    "        X_train, X_test, y_train, y_test = train_test_split(\n",
    "            X, y, test_size=0.2, random_state=42\n",
    "        )\n",
    "    except ValueError as e:\n",
    "        print(f\"Lỗi khi chia dữ liệu cho tập '{dataset_name}': {e}\")\n",
    "        continue\n",
    "    \n",
    "    # Vì dữ liệu đã được tiền xử lý, chúng ta có thể tiến hành huấn luyện mô hình trực tiếp\n",
    "\n",
    "    # Huấn luyện và đánh giá từng mô hình\n",
    "    for model_name, model in models.items():\n",
    "        print(f\"\\nHuấn luyện mô hình: {model_name}\")\n",
    "        \n",
    "        y_pred = [None]\n",
    "        training_time = [None]\n",
    "        training_completed = [False]\n",
    "        \n",
    "        def train_model():\n",
    "            start_time = time.time()\n",
    "            try:\n",
    "                model.fit(X_train, y_train)\n",
    "                y_pred[0] = model.predict(X_test)\n",
    "                training_time[0] = time.time() - start_time\n",
    "                training_completed[0] = True\n",
    "            except Exception as e:\n",
    "                print(f\"Lỗi khi huấn luyện mô hình {model_name}: {e}\")\n",
    "                training_completed[0] = False\n",
    "        \n",
    "        # Tạo và bắt đầu thread huấn luyện\n",
    "        training_thread = threading.Thread(target=train_model)\n",
    "        training_thread.start()\n",
    "        training_thread.join(timeout=training_threshold)\n",
    "        \n",
    "        if not training_completed[0]:\n",
    "            print(f\"Mô hình {model_name} đã vượt quá thời gian huấn luyện cho phép ({training_threshold} giây) hoặc gặp lỗi.\")\n",
    "            y_pred[0] = np.nan\n",
    "            training_time[0] = np.nan\n",
    "        else:\n",
    "            # Tính toán các độ đo\n",
    "            mse = mean_squared_error(y_test, y_pred[0])\n",
    "            rmse = np.sqrt(mse)\n",
    "            mae = mean_absolute_error(y_test, y_pred[0])\n",
    "            r_squared = r2_score(y_test, y_pred[0])\n",
    "            n = len(y_test)\n",
    "            p = X_test.shape[1]\n",
    "            if n > p + 1 and p > 0:\n",
    "                adjusted_r_squared = 1 - (1 - r_squared) * ((n - 1) / (n - p - 1))\n",
    "            else:\n",
    "                adjusted_r_squared = r_squared  # Không thể tính Adjusted R-squared\n",
    "                \n",
    "            # Hiển thị kết quả\n",
    "            print(f\"MSE: {mse}\")\n",
    "            print(f\"RMSE: {rmse}\")\n",
    "            print(f\"MAE: {mae}\")\n",
    "            print(f\"R-squared: {r_squared}\")\n",
    "            print(f\"Adjusted R-squared: {adjusted_r_squared}\")\n",
    "            print(f\"Thời gian huấn luyện: {training_time[0]} giây\")\n"
   ]
  },
  {
   "cell_type": "code",
   "execution_count": null,
   "metadata": {},
   "outputs": [],
   "source": []
  },
  {
   "cell_type": "markdown",
   "metadata": {
    "id": "4th-QGwTLaGj"
   },
   "source": [
    "Dưới đây là kết quả huấn luyện của các mô hình dưới dạng bảng với format Markdown:\n",
    "\n",
    "| Mô hình                  | MSE       | RMSE      | MAE       | R-squared | Adjusted R-squared | Thời gian huấn luyện (giây) |\n",
    "|--------------------------|-----------|-----------|-----------|-----------|--------------------|-----------------------------|\n",
    "| Linear Regression        | 0.8765    | 0.9362    | 0.6156    | 0.8521    | 0.8520             | 3.0365                      |\n",
    "| Ridge Regression         | 0.8765    | 0.9362    | 0.6156    | 0.8521    | 0.8520             | 0.6022                      |\n",
    "| Lasso Regression         | 2.3213    | 1.5236    | 1.1037    | 0.6084    | 0.6080             | 0.5960                      |\n",
    "| Elastic Net Regression   | 2.0305    | 1.4250    | 1.0416    | 0.6575    | 0.6572             | 0.7895                      |\n",
    "| LightGBM Regression      | 0.1475    | 0.3840    | 0.2015    | 0.9751    | 0.9751             | 13.0612                     |\n",
    "| Random Forest Regression | 0.1121    | 0.3348    | 0.1385    | 0.9811    | 0.9811             | 820.1286                    |\n",
    "| Support Vector Regression| NaN       | NaN       | NaN       | NaN       | NaN                | nan                         |\n",
    "\n",
    "Nếu bạn cần thêm điều chỉnh nào khác, hãy cho mình biết nhé!"
   ]
  }
 ],
 "metadata": {
  "colab": {
   "provenance": []
  },
  "kernelspec": {
   "display_name": "base",
   "language": "python",
   "name": "python3"
  },
  "language_info": {
   "codemirror_mode": {
    "name": "ipython",
    "version": 3
   },
   "file_extension": ".py",
   "mimetype": "text/x-python",
   "name": "python",
   "nbconvert_exporter": "python",
   "pygments_lexer": "ipython3",
   "version": "3.11.10"
  }
 },
 "nbformat": 4,
 "nbformat_minor": 0
}
